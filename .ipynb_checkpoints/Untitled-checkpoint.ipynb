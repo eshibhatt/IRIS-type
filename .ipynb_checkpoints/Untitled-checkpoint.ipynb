{
 "cells": [
  {
   "cell_type": "code",
   "execution_count": 22,
   "id": "94d0e8ad",
   "metadata": {},
   "outputs": [],
   "source": [
    "#scikit learn comes prebuilt with some great datasets\n",
    "from sklearn.datasets import load_iris\n",
    "iris=load_iris()"
   ]
  },
  {
   "cell_type": "code",
   "execution_count": 23,
   "id": "1d006b53",
   "metadata": {},
   "outputs": [],
   "source": [
    "#importing the data\n",
    "\n",
    "x=iris.data #usually denotes the input\n",
    "#usually denotes the target output, for which to generate function\n",
    "y=iris.target\n",
    "\n",
    "#creating features for the R*C labels\n",
    "feature_names=iris.feature_names\n",
    "target_names=iris.target_names\n",
    "\n",
    "#note:x,y are numpy arrays"
   ]
  },
  {
   "cell_type": "code",
   "execution_count": 24,
   "id": "3bd2311f",
   "metadata": {},
   "outputs": [
    {
     "name": "stdout",
     "output_type": "stream",
     "text": [
      "(120, 4)\n",
      "(30, 4)\n"
     ]
    }
   ],
   "source": [
    "#spliting the data into training and test set\n",
    "\n",
    "from sklearn.model_selection import train_test_split\n",
    "\n",
    "x_train,x_test, y_train, y_test= train_test_split(x,y,test_size=0.2)\n",
    "\n",
    "print(x_train.shape)\n",
    "print(x_test.shape)\n",
    "\n",
    "#test_size declares the size of test set. whole being 1\n",
    "#50/50 div would be, test_size=0.5"
   ]
  },
  {
   "cell_type": "code",
   "execution_count": 25,
   "id": "be2f9d8c",
   "metadata": {},
   "outputs": [],
   "source": [
    "#creating a model\n",
    "from sklearn.neighbors import KNeighborsClassifier\n",
    "knn=KNeighborsClassifier(n_neighbors=3)\n",
    "knn.fit(x_train,y_train) #training the model\n",
    "#testing the model and storing it for comparison\n",
    "y_pred=knn.predict(x_test) #imp function\n"
   ]
  },
  {
   "cell_type": "code",
   "execution_count": 26,
   "id": "54fd3d54",
   "metadata": {},
   "outputs": [
    {
     "name": "stdout",
     "output_type": "stream",
     "text": [
      "0.9666666666666667\n"
     ]
    }
   ],
   "source": [
    "#checking accuracy of the model\n",
    "from sklearn import metrics\n",
    "print(metrics.accuracy_score(y_test,y_pred))\n",
    "\n",
    "#our model is 96% accurate"
   ]
  },
  {
   "cell_type": "code",
   "execution_count": 27,
   "id": "be91144e",
   "metadata": {},
   "outputs": [
    {
     "data": {
      "text/plain": [
       "'improving the model Tips\\n------------------------------\\n1. Training Set: Test Set = 80:20\\nthe more data training set has the better.\\n2. Check the parameters\\n3. Will having more features, help you\\n'"
      ]
     },
     "execution_count": 27,
     "metadata": {},
     "output_type": "execute_result"
    }
   ],
   "source": [
    "'''improving the model Tips\n",
    "------------------------------\n",
    "1. Training Set: Test Set = 80:20\n",
    "the more data training set has the better.\n",
    "2. Check the parameters\n",
    "3. Will having more features, help you\n",
    "'''\n",
    "\n"
   ]
  },
  {
   "cell_type": "code",
   "execution_count": 28,
   "id": "6a7775f6",
   "metadata": {},
   "outputs": [
    {
     "name": "stdout",
     "output_type": "stream",
     "text": [
      "prediction: ['versicolor', 'virginica']\n"
     ]
    }
   ],
   "source": [
    "#taking random samples and finding their species\n",
    "sample=[[3,5,4,2],[2,3,5,4]]\n",
    "predictions=knn.predict(sample)\n",
    "pred_species=[iris.target_names[p] for p in predictions]\n",
    "\n",
    "print(\"prediction:\",pred_species)"
   ]
  },
  {
   "cell_type": "code",
   "execution_count": 37,
   "id": "62a0f561",
   "metadata": {},
   "outputs": [
    {
     "data": {
      "text/plain": [
       "['mlbrain.joblib']"
      ]
     },
     "execution_count": 37,
     "metadata": {},
     "output_type": "execute_result"
    }
   ],
   "source": [
    "#Model persistence: Persisting a model for future use without having to retrain.\n",
    "from joblib import dump, load\n",
    "dump(knn,'mlbrain.joblib') #saving the model"
   ]
  },
  {
   "cell_type": "code",
   "execution_count": 42,
   "id": "32b314aa",
   "metadata": {},
   "outputs": [
    {
     "name": "stdout",
     "output_type": "stream",
     "text": [
      "prediction: ['versicolor', 'virginica']\n"
     ]
    }
   ],
   "source": [
    "model=load('mlbrain.joblib')\n",
    "model.predict(x_test)\n",
    "\n",
    "#random samples to test saved model\n",
    "sample=[[3,5,4,2],[2,3,5,4]]\n",
    "predictions=model.predict(sample) #used the model\n",
    "pred_species=[iris.target_names[p] for p in predictions]\n",
    "\n",
    "print(\"prediction:\",pred_species)"
   ]
  },
  {
   "cell_type": "code",
   "execution_count": null,
   "id": "7c1da867",
   "metadata": {},
   "outputs": [],
   "source": []
  }
 ],
 "metadata": {
  "kernelspec": {
   "display_name": "Python 3 (ipykernel)",
   "language": "python",
   "name": "python3"
  },
  "language_info": {
   "codemirror_mode": {
    "name": "ipython",
    "version": 3
   },
   "file_extension": ".py",
   "mimetype": "text/x-python",
   "name": "python",
   "nbconvert_exporter": "python",
   "pygments_lexer": "ipython3",
   "version": "3.10.1"
  }
 },
 "nbformat": 4,
 "nbformat_minor": 5
}
